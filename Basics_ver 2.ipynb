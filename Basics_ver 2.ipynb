{
 "cells": [
  {
   "cell_type": "markdown",
   "metadata": {},
   "source": [
    "# Identifying App Profiles that Drive User Growth\n",
    "\n",
    "- The goal of this project is to help software developers make data-driven choices with respect to mobile app they are developing\n",
    "- We are working as Data Analysts for a mobile development company whose business model rely substantially on ad revenues. We will analyze both App store and Play store apps to determine which App Traits will attract more users"
   ]
  },
  {
   "cell_type": "code",
   "execution_count": 18,
   "metadata": {
    "collapsed": false
   },
   "outputs": [
    {
     "name": "stdout",
     "output_type": "stream",
     "text": [
      "['id', 'track_name', 'size_bytes', 'currency', 'price', 'rating_count_tot', 'rating_count_ver', 'user_rating', 'user_rating_ver', 'ver', 'cont_rating', 'prime_genre', 'sup_devices.num', 'ipadSc_urls.num', 'lang.num', 'vpp_lic']\n",
      "\n",
      "\n",
      "['284882215', 'Facebook', '389879808', 'USD', '0.0', '2974676', '212', '3.5', '3.5', '95.0', '4+', 'Social Networking', '37', '1', '29', '1']\n",
      "\n",
      "\n",
      "['389801252', 'Instagram', '113954816', 'USD', '0.0', '2161558', '1289', '4.5', '4.0', '10.23', '12+', 'Photo & Video', '37', '0', '29', '1']\n",
      "\n",
      "\n",
      "Number of rows: 7198\n",
      "Number of columns: 16\n",
      "\n",
      "\n",
      "['App', 'Category', 'Rating', 'Reviews', 'Size', 'Installs', 'Type', 'Price', 'Content Rating', 'Genres', 'Last Updated', 'Current Ver', 'Android Ver']\n",
      "\n",
      "\n",
      "['Photo Editor & Candy Camera & Grid & ScrapBook', 'ART_AND_DESIGN', '4.1', '159', '19M', '10,000+', 'Free', '0', 'Everyone', 'Art & Design', 'January 7, 2018', '1.0.0', '4.0.3 and up']\n",
      "\n",
      "\n",
      "['Coloring book moana', 'ART_AND_DESIGN', '3.9', '967', '14M', '500,000+', 'Free', '0', 'Everyone', 'Art & Design;Pretend Play', 'January 15, 2018', '2.0.0', '4.0.3 and up']\n",
      "\n",
      "\n",
      "Number of rows: 10842\n",
      "Number of columns: 13\n",
      "\n",
      "\n"
     ]
    }
   ],
   "source": [
    "from csv import reader\n",
    "\n",
    "def explore_data(dataset, start, end, rows_and_columns=False):\n",
    "    dataset_slice = dataset[start:end]\n",
    "    for row in dataset_slice:\n",
    "        print(row)\n",
    "        print('\\n') \n",
    "        \n",
    "    if rows_and_columns:\n",
    "        print('Number of rows:', len(dataset))\n",
    "        print('Number of columns:', len(dataset[0]))\n",
    "        print('\\n')\n",
    "        \n",
    "opened_file = open('AppleStore.csv')\n",
    "read_file = reader(opened_file)\n",
    "IOS_Apps = list(read_file)\n",
    "\n",
    "opened_file = open('googleplaystore.csv')\n",
    "read_file = reader(opened_file)\n",
    "Android_Apps = list(read_file)\n",
    "\n",
    "explore_data(IOS_Apps,0,3,rows_and_columns= True)\n",
    "explore_data(Android_Apps,0,3,rows_and_columns= True)"
   ]
  },
  {
   "cell_type": "markdown",
   "metadata": {
    "collapsed": true
   },
   "source": [
    "In the code above we took a small screenshot of the data set that we are working with. We can see that the two data sets have different column names and we have to manipulate the datasets to combine the two and make a big singular set."
   ]
  },
  {
   "cell_type": "code",
   "execution_count": 3,
   "metadata": {
    "collapsed": false
   },
   "outputs": [
    {
     "name": "stdout",
     "output_type": "stream",
     "text": [
      "Quick PDF Scanner + OCR FREE\n",
      "('Quick PDF Scanner + OCR FREE', 230)\n",
      "Photo Editor & Candy Camera & Grid & ScrapBook\n",
      "('Photo Editor & Candy Camera & Grid & ScrapBook', 1)\n",
      "Total Duplicate Entries: 1181 \n",
      "\n",
      "['Quick PDF Scanner + OCR FREE', 'BUSINESS', '4.2', '80805', 'Varies with device', '5,000,000+', 'Free', '0', 'Everyone', 'Business', 'February 26, 2018', 'Varies with device', '4.0.3 and up']\n",
      "['Quick PDF Scanner + OCR FREE', 'BUSINESS', '4.2', '80805', 'Varies with device', '5,000,000+', 'Free', '0', 'Everyone', 'Business', 'February 26, 2018', 'Varies with device', '4.0.3 and up']\n"
     ]
    }
   ],
   "source": [
    "count=1\n",
    "unique_apps= []\n",
    "unique_index=[]\n",
    "dup_apps=[]\n",
    "dup_index=[]\n",
    "for app in Android_Apps[1:]:\n",
    "    name = app[0]\n",
    "    if name in unique_apps:\n",
    "        dup_apps.append(name)\n",
    "        dup_index.append((name,count))\n",
    "    else:\n",
    "        unique_apps.append(name)\n",
    "        unique_index.append((name,count))\n",
    "    count += 1\n",
    "    \n",
    "print(dup_apps[0]) #fist item in dup list\n",
    "print(dup_index[0]) #first item with index\n",
    "\n",
    "print(unique_apps[0]) #first item in unique list\n",
    "print(unique_index[0]) #first item with index\n",
    "\n",
    "print(\"Total Duplicate Entries:\",len(dup_apps), '\\n')\n",
    "\n",
    "#Checking first duplicate app's index on unique_apps\n",
    "first_copy = unique_apps.index('Quick PDF Scanner + OCR FREE') #index of first duplicate on \n",
    "Index_AndroidApps = unique_index[first_copy][1]\n",
    "\n",
    "\n",
    "print(Android_Apps[Index_AndroidApps])\n",
    "print(Android_Apps[230])\n",
    "    "
   ]
  },
  {
   "cell_type": "markdown",
   "metadata": {},
   "source": [
    "In this section of code I classified the apps on the Play Store into its unique data entries and duplicate entries. It showed that there are indead a lot of duplicates in the data set. With that in mind, we will first get rid of duplicates before continuing with the analysis. We will retain data entries with the most user reviews."
   ]
  },
  {
   "cell_type": "code",
   "execution_count": 14,
   "metadata": {
    "collapsed": false
   },
   "outputs": [
    {
     "name": "stdout",
     "output_type": "stream",
     "text": [
      "9658\n"
     ]
    }
   ],
   "source": [
    "\n",
    "reviews_max = {}\n",
    "for app in Android_Apps[1:]:\n",
    "    name = app[0]\n",
    "    n_reviews = float(app[3])\n",
    "    if name in reviews_max and reviews_max[name] > n_reviews  :\n",
    "        reviews_max[name] = n_reviews\n",
    "        \n",
    "    if name not in reviews_max:\n",
    "        reviews_max[name] = n_reviews\n",
    "#We have now created a dictionary that contains the unique entries   \n",
    "#with the most user reviews. It is time to create the cleaned data\n",
    "\n",
    "android_clean = []\n",
    "already_added = []\n",
    "#loop through Play Store data set to obtain unique entries with max user rating\n",
    "for app in Android_Apps[1:]:\n",
    "    name = app[0]\n",
    "    n_reviews = float(app[3])\n",
    "    \n",
    "    if n_reviews == reviews_max[name] and name not in already_added:\n",
    "        android_clean.append(app)\n",
    "        already_added.append(name)\n",
    "    \n",
    "        \n",
    "print(len(android_clean))\n",
    "    "
   ]
  },
  {
   "cell_type": "markdown",
   "metadata": {},
   "source": [
    "We have now obtained the unique data entries of our data sets. We first made a list of all the unique names before using that list to loop through the Androids Apps to obtain each unique row."
   ]
  },
  {
   "cell_type": "code",
   "execution_count": 21,
   "metadata": {
    "collapsed": false
   },
   "outputs": [
    {
     "name": "stdout",
     "output_type": "stream",
     "text": [
      "Total English IOS Apps:  6155\n",
      "Total English Android Apps:  10779\n"
     ]
    }
   ],
   "source": [
    "def is_english(string): #checks if string has more than 2 characters not belonging in the commonly used english charactes.\n",
    "    count=0\n",
    "    for character in string:\n",
    "        if ord(character) > 127:\n",
    "            count += 1\n",
    "            if count == 3:\n",
    "                return False\n",
    "    return True\n",
    "# print(is_english('Docs To Go™ Free Office Suite')) #tests\n",
    "# print(is_english('Instachat 😜'))\n",
    "# print(is_english('爱奇艺PPS -《欢乐颂2》电视剧热播'))\n",
    "english_IOS= []\n",
    "english_AND= []\n",
    "for app in IOS_Apps[1:]: #loopinng through IOS data set\n",
    "    name = app[1]\n",
    "    if is_english(name):\n",
    "        english_IOS.append(app)\n",
    "for app in Android_Apps[1:]: #looping through Android data set\n",
    "    name = app[0]\n",
    "    if is_english(name):\n",
    "        english_AND.append(app)\n",
    "print('Total English IOS Apps: ', len(english_IOS))\n",
    "print('Total English Android Apps: ',len(english_AND))"
   ]
  },
  {
   "cell_type": "markdown",
   "metadata": {},
   "source": [
    "In this section we made a function that checks if a string contains all common english characters. With that function, we were able to sift out non-english apps for our analysis. "
   ]
  },
  {
   "cell_type": "code",
   "execution_count": 22,
   "metadata": {
    "collapsed": false
   },
   "outputs": [
    {
     "name": "stdout",
     "output_type": "stream",
     "text": [
      "Total English and Free IOS Apps:  3203\n",
      "Total English and Free Android Apps:  9983\n"
     ]
    }
   ],
   "source": [
    "#price index in IOS 4, Android 7\n",
    "free_IOS = []\n",
    "free_Android = []\n",
    "for app in english_IOS:\n",
    "    price = app[4]\n",
    "    if price == '0.0':\n",
    "        free_IOS.append(app)\n",
    "\n",
    "for app in english_AND:\n",
    "    price = app[7]\n",
    "    if price == '0':\n",
    "        free_Android.append(app)\n",
    "print('Total English and Free IOS Apps: ',len(free_IOS))\n",
    "print('Total English and Free Android Apps: ', len(free_Android))"
   ]
  },
  {
   "cell_type": "markdown",
   "metadata": {},
   "source": [
    "Lastly, we were able to clean our data of non-free apps."
   ]
  },
  {
   "cell_type": "markdown",
   "metadata": {},
   "source": [
    "So far, we have:\n",
    "- Removed inaccurate data\n",
    "- Removed duplicated app entries\n",
    "- Removed non-English apps\n",
    "- Removed Non-Free Apps\n",
    "We will now proceed with the analysis."
   ]
  },
  {
   "cell_type": "markdown",
   "metadata": {
    "collapsed": true
   },
   "source": [
    "Again, the goal of this analysis will be to find App traits that produce success in both markets in terms of the number of users. We start by looking at the columns and seeing what could be relevant for our purposes. On the IOS dataset we have the prime_genre and column and on the Android dataset we have the category and genre column. In the code below, we will build frequency tables for the said columns. We will create functions to make this repetitive work faster."
   ]
  },
  {
   "cell_type": "code",
   "execution_count": 31,
   "metadata": {
    "collapsed": false
   },
   "outputs": [],
   "source": [
    "def freq_table(dataset, index):\n",
    "    table = {}\n",
    "    total = 0\n",
    "    \n",
    "    for row in dataset:\n",
    "        total += 1\n",
    "        value = row[index]\n",
    "        if value in table:\n",
    "            table[value] += 1\n",
    "        else:\n",
    "            table[value] = 1\n",
    "    \n",
    "    table_percentages = {}\n",
    "    for key in table:\n",
    "        percentage = (table[key] / total) * 100\n",
    "        table_percentages[key] = percentage \n",
    "    \n",
    "    return table_percentages\n",
    "\n",
    "def display_table(dataset, index):\n",
    "    table = freq_table(dataset, index)\n",
    "    table_display = []\n",
    "    for key in table:\n",
    "        key_val_as_tuple = (table[key], key)\n",
    "        table_display.append(key_val_as_tuple)\n",
    "\n",
    "    table_sorted = sorted(table_display, reverse = True)\n",
    "    for entry in table_sorted:\n",
    "        print(entry[1], ':', entry[0])\n",
    "#On IOS dataset, prime_genre is at index 11\n",
    "#On Android dataset, Genres is at index 1 and Category is at index 9\n",
    "\n"
   ]
  },
  {
   "cell_type": "code",
   "execution_count": 32,
   "metadata": {
    "collapsed": false
   },
   "outputs": [
    {
     "name": "stdout",
     "output_type": "stream",
     "text": [
      "Games : 58.25788323446769\n",
      "Entertainment : 7.836403371838902\n",
      "Photo & Video : 4.995316890415236\n",
      "Education : 3.6840462066812365\n",
      "Social Networking : 3.3093974399000934\n",
      "Shopping : 2.5913206369029034\n",
      "Utilities : 2.466437714642523\n",
      "Sports : 2.1542304089915705\n",
      "Music : 2.0605682172962845\n",
      "Health & Fitness : 2.0293474867311896\n",
      "Productivity : 1.7483609116453322\n",
      "Lifestyle : 1.5610365282547611\n",
      "News : 1.3424914142990947\n",
      "Travel : 1.248829222603809\n",
      "Finance : 1.0927255697783327\n",
      "Weather : 0.8741804558226661\n",
      "Food & Drink : 0.8117389946924758\n",
      "Reference : 0.5307524196066188\n",
      "Business : 0.5307524196066188\n",
      "Book : 0.3746487667811427\n",
      "Navigation : 0.18732438339057134\n",
      "Medical : 0.18732438339057134\n",
      "Catalogs : 0.1248829222603809\n"
     ]
    }
   ],
   "source": [
    "display_table(free_IOS, 11) #Free IOS Apps, freq_table of prime_gere\n"
   ]
  },
  {
   "cell_type": "markdown",
   "metadata": {},
   "source": [
    "On the English & Free IOS Apps, we can see that Games dominate the Genres. Entertainment and Photo & Video though runner-ups are dwarfed by Games. Apps for practical purposes also take a considerable amount of the genre (i.e Education, Shopping, Utilities, Productivity & Lifestyle).\n",
    "\n",
    "I think it is fair to say that for English and Free apps, it most crowded in Games which most likely have the most users. We will have to investigate further on that."
   ]
  },
  {
   "cell_type": "code",
   "execution_count": 33,
   "metadata": {
    "collapsed": false
   },
   "outputs": [
    {
     "name": "stdout",
     "output_type": "stream",
     "text": [
      "FAMILY : 17.700090153260543\n",
      "GAME : 10.567965541420413\n",
      "TOOLS : 7.632976059300811\n",
      "BUSINESS : 4.45757788240008\n",
      "PRODUCTIVITY : 3.956726434939397\n",
      "SPORTS : 3.5961133927677054\n",
      "COMMUNICATION : 3.5860963638184917\n",
      "LIFESTYLE : 3.5760793348692776\n",
      "MEDICAL : 3.5460282480216367\n",
      "FINANCE : 3.4959431032755686\n",
      "HEALTH_AND_FITNESS : 3.2555344084944404\n",
      "PHOTOGRAPHY : 3.1253130321546627\n",
      "PERSONALIZATION : 3.085244916357808\n",
      "SOCIAL : 2.9249724531703896\n",
      "NEWS_AND_MAGAZINES : 2.7747170189321846\n",
      "SHOPPING : 2.5743764399479114\n",
      "TRAVEL_AND_LOCAL : 2.464189121506561\n",
      "DATING : 2.2738655714715015\n",
      "BOOKS_AND_REFERENCE : 1.9833717319443052\n",
      "VIDEO_PLAYERS : 1.7028949213663227\n",
      "EDUCATION : 1.5125713713312632\n",
      "ENTERTAINMENT : 1.4725032555344086\n",
      "MAPS_AND_NAVIGATION : 1.2921967344485625\n",
      "FOOD_AND_DRINK : 1.252128618651708\n",
      "HOUSE_AND_HOME : 0.8614644896323751\n",
      "LIBRARIES_AND_DEMO : 0.8414304317339477\n",
      "AUTO_AND_VEHICLES : 0.8213963738355204\n",
      "WEATHER : 0.7312431132925974\n",
      "EVENTS : 0.6310728238004608\n",
      "ART_AND_DESIGN : 0.6110387659020335\n",
      "PARENTING : 0.5809876790543925\n",
      "COMICS : 0.5809876790543925\n",
      "BEAUTY : 0.5309025343083241\n"
     ]
    }
   ],
   "source": [
    "display_table(free_Android, 1)"
   ]
  },
  {
   "cell_type": "markdown",
   "metadata": {},
   "source": [
    "On English and Free Android Apps, the Categories is dominated by FAMILY, GAME and TOOLS. It also shows the same trend in IOS apps that practical apps also take a considerable amount of the pie of apps. The trend of Entertainments and Family apps dominating the Android Category is the same in IOS apps."
   ]
  },
  {
   "cell_type": "code",
   "execution_count": 35,
   "metadata": {
    "collapsed": false
   },
   "outputs": [
    {
     "name": "stdout",
     "output_type": "stream",
     "text": [
      "Tools : 7.6229590303515975\n",
      "Entertainment : 6.010217369528198\n",
      "Education : 5.13873585094661\n",
      "Business : 4.45757788240008\n",
      "Productivity : 3.956726434939397\n",
      "Sports : 3.7363517980566967\n",
      "Communication : 3.5860963638184917\n",
      "Lifestyle : 3.566062305920064\n",
      "Medical : 3.5460282480216367\n",
      "Finance : 3.4959431032755686\n",
      "Action : 3.4057898427326454\n",
      "Health & Fitness : 3.2555344084944404\n",
      "Photography : 3.1253130321546627\n",
      "Personalization : 3.085244916357808\n",
      "Social : 2.9249724531703896\n",
      "News & Magazines : 2.7747170189321846\n",
      "Shopping : 2.5743764399479114\n",
      "Travel & Local : 2.4541720925573474\n",
      "Dating : 2.2738655714715015\n",
      "Arcade : 1.9933887608935192\n",
      "Books & Reference : 1.9833717319443052\n",
      "Simulation : 1.8832014424521686\n",
      "Casual : 1.8431333266553143\n",
      "Video Players & Editors : 1.6828608634678954\n",
      "Maps & Navigation : 1.2921967344485625\n",
      "Food & Drink : 1.252128618651708\n",
      "Puzzle : 1.2120605028548532\n",
      "Racing : 0.951617750175298\n",
      "Strategy : 0.9315836922768707\n",
      "Role Playing : 0.8714815185815887\n",
      "House & Home : 0.8614644896323751\n",
      "Libraries & Demo : 0.8414304317339477\n",
      "Auto & Vehicles : 0.8213963738355204\n",
      "Weather : 0.7312431132925974\n",
      "Events : 0.6310728238004608\n",
      "Adventure : 0.6110387659020335\n",
      "Comics : 0.5709706501051788\n",
      "Art & Design : 0.5409195632575378\n",
      "Beauty : 0.5309025343083241\n",
      "Parenting : 0.44074927376540113\n",
      "Education;Education : 0.43073224481618755\n",
      "Card : 0.4106981869177602\n",
      "Educational;Education : 0.3806471000701192\n",
      "Trivia : 0.3706300711209055\n",
      "Casino : 0.3706300711209055\n",
      "Board : 0.35059601322247824\n",
      "Educational : 0.3305619553240509\n",
      "Word : 0.29049383952719626\n",
      "Entertainment;Music & Video : 0.2704597816287689\n",
      "Casual;Pretend Play : 0.25042572373034155\n",
      "Music : 0.21035760793348693\n",
      "Casual;Action & Adventure : 0.20034057898427327\n",
      "Racing;Action & Adventure : 0.1903235500350596\n",
      "Puzzle;Brain Games : 0.17028949213663228\n",
      "Educational;Pretend Play : 0.14023840528899129\n",
      "Action;Action & Adventure : 0.14023840528899129\n",
      "Casual;Brain Games : 0.13022137633977762\n",
      "Arcade;Action & Adventure : 0.12020434739056396\n",
      "Simulation;Action & Adventure : 0.11018731844135028\n",
      "Adventure;Action & Adventure : 0.11018731844135028\n",
      "Entertainment;Brain Games : 0.0801362315937093\n",
      "Education;Pretend Play : 0.0801362315937093\n",
      "Board;Brain Games : 0.0801362315937093\n",
      "Parenting;Education : 0.07011920264449564\n",
      "Casual;Creativity : 0.07011920264449564\n",
      "Art & Design;Creativity : 0.07011920264449564\n",
      "Role Playing;Action & Adventure : 0.06010217369528198\n",
      "Parenting;Music & Video : 0.06010217369528198\n",
      "Educational;Brain Games : 0.06010217369528198\n",
      "Role Playing;Pretend Play : 0.050085144746068316\n",
      "Puzzle;Action & Adventure : 0.050085144746068316\n",
      "Education;Music & Video : 0.050085144746068316\n",
      "Education;Creativity : 0.050085144746068316\n",
      "Educational;Action & Adventure : 0.04006811579685465\n",
      "Education;Brain Games : 0.04006811579685465\n",
      "Education;Action & Adventure : 0.04006811579685465\n",
      "Video Players & Editors;Music & Video : 0.03005108684764099\n",
      "Simulation;Pretend Play : 0.03005108684764099\n",
      "Entertainment;Creativity : 0.03005108684764099\n",
      "Entertainment;Action & Adventure : 0.03005108684764099\n",
      "Educational;Creativity : 0.03005108684764099\n",
      "Video Players & Editors;Creativity : 0.020034057898427327\n",
      "Sports;Action & Adventure : 0.020034057898427327\n",
      "Puzzle;Creativity : 0.020034057898427327\n",
      "Music;Music & Video : 0.020034057898427327\n",
      "Entertainment;Pretend Play : 0.020034057898427327\n",
      "Casual;Music & Video : 0.020034057898427327\n",
      "Casual;Education : 0.020034057898427327\n",
      "Board;Action & Adventure : 0.020034057898427327\n",
      "Art & Design;Pretend Play : 0.020034057898427327\n",
      "Art & Design;Action & Adventure : 0.020034057898427327\n",
      "Adventure;Education : 0.020034057898427327\n",
      "Trivia;Education : 0.010017028949213663\n",
      "Travel & Local;Action & Adventure : 0.010017028949213663\n",
      "Tools;Education : 0.010017028949213663\n",
      "Strategy;Education : 0.010017028949213663\n",
      "Strategy;Creativity : 0.010017028949213663\n",
      "Strategy;Action & Adventure : 0.010017028949213663\n",
      "Simulation;Education : 0.010017028949213663\n",
      "Role Playing;Brain Games : 0.010017028949213663\n",
      "Racing;Pretend Play : 0.010017028949213663\n",
      "Puzzle;Education : 0.010017028949213663\n",
      "Parenting;Brain Games : 0.010017028949213663\n",
      "Music & Audio;Music & Video : 0.010017028949213663\n",
      "Lifestyle;Pretend Play : 0.010017028949213663\n",
      "Lifestyle;Education : 0.010017028949213663\n",
      "Health & Fitness;Education : 0.010017028949213663\n",
      "Health & Fitness;Action & Adventure : 0.010017028949213663\n",
      "Entertainment;Education : 0.010017028949213663\n",
      "Communication;Creativity : 0.010017028949213663\n",
      "Comics;Creativity : 0.010017028949213663\n",
      "Card;Brain Games : 0.010017028949213663\n",
      "Card;Action & Adventure : 0.010017028949213663\n",
      "Books & Reference;Education : 0.010017028949213663\n",
      "Arcade;Pretend Play : 0.010017028949213663\n"
     ]
    }
   ],
   "source": [
    "display_table(free_Android,9)"
   ]
  },
  {
   "cell_type": "markdown",
   "metadata": {},
   "source": [
    "The trend is similar on the Genres for Free and English Android Apps. Entertainment take a big chunk while practical apps also take a considerable amount.\n",
    "\n",
    "So far, data has been showing that most apps belong to the games and/or entertainment category (fun apps) and that practical apps takes the runner up spot.\n",
    "\n",
    "We will now compute for the average rating of each genre/category in our datasets."
   ]
  },
  {
   "cell_type": "code",
   "execution_count": 44,
   "metadata": {
    "collapsed": false
   },
   "outputs": [
    {
     "name": "stdout",
     "output_type": "stream",
     "text": [
      "Sports : 23008.898550724636\n",
      "Games : 22886.36709539121\n",
      "Education : 7003.983050847458\n",
      "Weather : 52279.892857142855\n",
      "Business : 7491.117647058823\n",
      "Catalogs : 4004.0\n",
      "Navigation : 86090.33333333333\n",
      "Travel : 28243.8\n",
      "Social Networking : 71548.34905660378\n",
      "Book : 46384.916666666664\n",
      "Health & Fitness : 23298.015384615384\n",
      "Productivity : 21028.410714285714\n",
      "News : 21248.023255813954\n",
      "Reference : 79350.4705882353\n",
      "Music : 57326.530303030304\n",
      "Shopping : 27230.734939759037\n",
      "Entertainment : 14195.358565737051\n",
      "Utilities : 19156.493670886077\n",
      "Finance : 32367.02857142857\n",
      "Photo & Video : 28441.54375\n",
      "Medical : 612.0\n",
      "Food & Drink : 33333.92307692308\n",
      "Lifestyle : 16815.48\n"
     ]
    }
   ],
   "source": [
    "genre_ios= freq_table(free_IOS, 11)\n",
    "\n",
    "for genre in genre_ios:\n",
    "    total= 0\n",
    "    len_genre= 0\n",
    "    for app in free_IOS:\n",
    "        genre_app = app[11]\n",
    "        if genre_app == genre:\n",
    "            rating= float(app[5])\n",
    "            total += rating\n",
    "            len_genre += 1\n",
    "    avg_rating= total/len_genre\n",
    "    print(genre,':' ,avg_rating)\n",
    "    "
   ]
  },
  {
   "cell_type": "markdown",
   "metadata": {},
   "source": [
    "With the data showing the categories Social Networking and Reference having the highest user reviews,  my first recommendation would be to focus on building apps that falls under the intersection of Social Networking and Reference. It will have a higher likelihood of attracting more users."
   ]
  },
  {
   "cell_type": "code",
   "execution_count": 62,
   "metadata": {
    "collapsed": false
   },
   "outputs": [
    {
     "name": "stdout",
     "output_type": "stream",
     "text": [
      "Entertainment;Brain Games : 4150000.0\n",
      "Education;Pretend Play : 2000000.0\n",
      "Casual : 52515209.61956522\n",
      "Simulation;Pretend Play : 700000.0\n",
      "Business : 2250454.1348314607\n",
      "Strategy;Action & Adventure : 1000000.0\n",
      "Casual;Creativity : 6000000.0\n",
      "Racing;Pretend Play : 1000000.0\n",
      "Art & Design;Action & Adventure : 100000.0\n",
      "Puzzle : 13770960.256198347\n",
      "Comics : 982739.4736842106\n",
      "Role Playing;Pretend Play : 4240000.0\n",
      "Art & Design : 2268724.074074074\n",
      "Board;Brain Games : 981250.0\n",
      "Comics;Creativity : 50000.0\n",
      "Video Players & Editors;Creativity : 5000000.0\n",
      "Entertainment;Education : 1000000.0\n",
      "Maps & Navigation : 5574114.573643411\n",
      "Travel & Local;Action & Adventure : 100000.0\n",
      "Adventure;Action & Adventure : 82363636.36363636\n",
      "Racing : 21054071.789473683\n",
      "Finance : 2511355.6790830945\n",
      "Puzzle;Brain Games : 9071176.470588235\n",
      "Strategy : 21152603.279569894\n",
      "Lifestyle : 1464321.4297752809\n",
      "Personalization : 7533233.402597402\n",
      "Board : 4766088.857142857\n",
      "Educational;Action & Adventure : 25262500.0\n",
      "Music;Music & Video : 5050000.0\n",
      "Casual;Pretend Play : 8444000.0\n",
      "Parenting;Education : 452857.14285714284\n",
      "Role Playing : 4024696.206896552\n",
      "Art & Design;Pretend Play : 500000.0\n",
      "Puzzle;Action & Adventure : 31020000.0\n",
      "House & Home : 1954796.058139535\n",
      "Music : 15239071.42857143\n",
      "Auto & Vehicles : 647317.8170731707\n",
      "Casino : 3520421.621621622\n",
      "Education;Music & Video : 2240000.0\n",
      "Education;Brain Games : 6500000.0\n",
      "Trivia : 3475712.7027027025\n",
      "Educational;Brain Games : 4433333.333333333\n",
      "Card : 3966304.8780487804\n",
      "Casual;Action & Adventure : 25000000.0\n",
      "Parenting;Brain Games : 1000000.0\n",
      "Casual;Education : 1000000.0\n",
      "Puzzle;Education : 100000.0\n",
      "Music & Audio;Music & Video : 500000.0\n",
      "Parenting;Music & Video : 1118333.3333333333\n",
      "Card;Brain Games : 100000.0\n",
      "Adventure;Education : 10000000.0\n",
      "Education : 972296.1013645225\n",
      "Shopping : 12637504.221789883\n",
      "Dating : 1164270.7356828193\n",
      "Video Players & Editors;Music & Video : 8333333.333333333\n",
      "Social : 48184458.56849315\n",
      "Sports;Action & Adventure : 5050000.0\n",
      "Adventure : 5825690.491803279\n",
      "Action;Action & Adventure : 6285714.285714285\n",
      "Educational;Education : 1655263.4210526317\n",
      "Arcade;Action & Adventure : 3758333.4166666665\n",
      "Communication : 91189682.09776536\n",
      "Puzzle;Creativity : 750000.0\n",
      "Beauty : 513151.88679245283\n",
      "Education;Creativity : 3300000.0\n",
      "Tools;Education : 10000000.0\n",
      "Entertainment;Action & Adventure : 2333333.3333333335\n",
      "Racing;Action & Adventure : 11171052.631578946\n",
      "Action : 27279373.352941178\n",
      "Entertainment : 8439670.855\n",
      "Health & Fitness;Action & Adventure : 1000000.0\n",
      "Arcade;Pretend Play : 1000000.0\n",
      "Arcade : 53897446.93467337\n",
      "Art & Design;Creativity : 315714.28571428574\n",
      "Events : 253542.22222222222\n",
      "Educational;Pretend Play : 14071428.57142857\n",
      "Entertainment;Music & Video : 11748148.148148147\n",
      "Simulation : 4330120.319148936\n",
      "Communication;Creativity : 500000.0\n",
      "Health & Fitness : 4869225.852307692\n",
      "Productivity : 35885137.50379747\n",
      "News & Magazines : 27058831.263537906\n",
      "Simulation;Education : 500.0\n",
      "Sports : 7683326.227882038\n",
      "Lifestyle;Pretend Play : 10000000.0\n",
      "Strategy;Creativity : 1000000.0\n",
      "Parenting : 467977.5\n",
      "Trivia;Education : 100.0\n",
      "Education;Action & Adventure : 1000000.0\n",
      "Education;Education : 18092686.279069766\n",
      "Entertainment;Creativity : 4000000.0\n",
      "Weather : 5824500.273972603\n",
      "Lifestyle;Education : 100000.0\n",
      "Board;Action & Adventure : 3000000.0\n",
      "Educational;Creativity : 2333333.3333333335\n",
      "Entertainment;Pretend Play : 3000000.0\n",
      "Books & Reference : 9703958.383838383\n",
      "Simulation;Action & Adventure : 6727272.7272727275\n",
      "Medical : 147563.28813559323\n",
      "Card;Action & Adventure : 10000000.0\n",
      "Role Playing;Brain Games : 10000000.0\n",
      "Casual;Music & Video : 10000000.0\n",
      "Video Players & Editors : 36945426.9047619\n",
      "Health & Fitness;Education : 100000.0\n",
      "Role Playing;Action & Adventure : 8500000.0\n",
      "Books & Reference;Education : 1000.0\n",
      "Strategy;Education : 500000.0\n",
      "Photography : 32321374.407051284\n",
      "Tools : 15034202.988173457\n",
      "Educational : 411184.8484848485\n",
      "Travel & Local : 28035118.718367346\n",
      "Libraries & Demo : 749950.119047619\n",
      "Food & Drink : 2190710.008\n",
      "Word : 9281812.068965517\n",
      "Casual;Brain Games : 2085461.5384615385\n",
      "\n",
      "\n",
      "Top Two Genres with the most Installs:\n",
      "(91189682.09776536, 'Communication') \n",
      " (82363636.36363636, 'Adventure;Action & Adventure')\n"
     ]
    }
   ],
   "source": [
    "genres_android = freq_table(free_Android,9)\n",
    "tot_avg_rating =[]\n",
    "for category in genres_android:\n",
    "    total= 0\n",
    "    len_category= 0\n",
    "    for app in free_Android:\n",
    "        category_app = app[9]\n",
    "        if category_app == category:\n",
    "            num_install=app[5]\n",
    "            num_1 = num_install.replace('+','')\n",
    "            num_2 = num_1.replace(',','')\n",
    "            total += float(num_2)\n",
    "            len_category += 1\n",
    "    avg_rating= total/len_category\n",
    "    tot_avg_rating.append((avg_rating, category))\n",
    "    print(category,':' ,avg_rating)\n",
    "print('\\n')\n",
    "tot_avg_rating = sorted(tot_avg_rating, reverse=True)\n",
    "\n",
    "print('Top Two Genres with the most Installs:')\n",
    "print(tot_avg_rating[0],'\\n',tot_avg_rating[1])"
   ]
  },
  {
   "cell_type": "markdown",
   "metadata": {},
   "source": [
    "For the Play Store, we reccommend building an app that falls under the intersection of Communication and Action & Adventure.\n",
    "\n",
    "# Reccommendation\n",
    "To have a higher likelihood of attracting a big user base in both the App Store and Play store, we recommend creating an Adventure Game that focuses heavily on the Adventure aspect and Player to Player interaction."
   ]
  },
  {
   "cell_type": "code",
   "execution_count": null,
   "metadata": {
    "collapsed": true
   },
   "outputs": [],
   "source": []
  }
 ],
 "metadata": {
  "kernelspec": {
   "display_name": "Python 3",
   "language": "python",
   "name": "python3"
  },
  "language_info": {
   "codemirror_mode": {
    "name": "ipython",
    "version": 3
   },
   "file_extension": ".py",
   "mimetype": "text/x-python",
   "name": "python",
   "nbconvert_exporter": "python",
   "pygments_lexer": "ipython3",
   "version": "3.4.3"
  }
 },
 "nbformat": 4,
 "nbformat_minor": 2
}
